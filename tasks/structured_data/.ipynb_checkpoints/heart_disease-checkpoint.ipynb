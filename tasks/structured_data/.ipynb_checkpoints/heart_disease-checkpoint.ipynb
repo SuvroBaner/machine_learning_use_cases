{
 "cells": [
  {
   "cell_type": "markdown",
   "id": "32354fa8-00dd-4a44-ab92-7c7f632701fa",
   "metadata": {},
   "source": [
    "#### Problem Statement\n",
    "The dataset is provided by Cleveland Clinic Foundation for Heart Disease.\n",
    "https://archive.ics.uci.edu/ml/datasets/heart+Disease\n",
    "\n",
    "It's a csv with 303 rows each containing a patient information. We use these features to predict if a patient has a heart disease or not (binary classification)"
   ]
  },
  {
   "cell_type": "markdown",
   "id": "62c5cac6-0f48-4aae-9303-0a6450aaeae2",
   "metadata": {},
   "source": [
    "##### Import Modules"
   ]
  },
  {
   "cell_type": "code",
   "execution_count": 20,
   "id": "5d6e5831-ac92-4845-8b74-ef5952be5b79",
   "metadata": {},
   "outputs": [],
   "source": [
    "import tensorflow as tf\n",
    "import numpy as np\n",
    "import pandas as pd\n",
    "from tensorflow import keras\n",
    "from tensorflow.keras import layers\n",
    "\n",
    "from tensorflow.keras.layers import IntegerLookup\n",
    "from tensorflow.keras.layers import Normalization\n",
    "from tensorflow.keras.layers import StringLookup"
   ]
  },
  {
   "cell_type": "code",
   "execution_count": 2,
   "id": "8a1d3328-c0ce-4073-9a6a-23a9930bff11",
   "metadata": {},
   "outputs": [
    {
     "name": "stdout",
     "output_type": "stream",
     "text": [
      "2.8.0\n"
     ]
    }
   ],
   "source": [
    "print(tf.__version__)"
   ]
  },
  {
   "cell_type": "markdown",
   "id": "99da7906-8d39-4510-9fd5-5ea09c949727",
   "metadata": {},
   "source": [
    "##### Preparing the data"
   ]
  },
  {
   "cell_type": "code",
   "execution_count": 3,
   "id": "0040991e-3576-42f0-ab3e-33a54d3c6d79",
   "metadata": {},
   "outputs": [],
   "source": [
    "file_url = \"http://storage.googleapis.com/download.tensorflow.org/data/heart.csv\"\n",
    "dataframe = pd.read_csv(file_url)"
   ]
  },
  {
   "cell_type": "code",
   "execution_count": 4,
   "id": "77cf4559-a103-4ad5-a7b0-4ab0b34b85dc",
   "metadata": {},
   "outputs": [
    {
     "data": {
      "text/plain": [
       "(303, 14)"
      ]
     },
     "execution_count": 4,
     "metadata": {},
     "output_type": "execute_result"
    }
   ],
   "source": [
    "dataframe.shape"
   ]
  },
  {
   "cell_type": "code",
   "execution_count": 5,
   "id": "02cfbec8-f1e3-4bdc-8127-6ec4cd5dbdb1",
   "metadata": {},
   "outputs": [
    {
     "data": {
      "text/html": [
       "<div>\n",
       "<style scoped>\n",
       "    .dataframe tbody tr th:only-of-type {\n",
       "        vertical-align: middle;\n",
       "    }\n",
       "\n",
       "    .dataframe tbody tr th {\n",
       "        vertical-align: top;\n",
       "    }\n",
       "\n",
       "    .dataframe thead th {\n",
       "        text-align: right;\n",
       "    }\n",
       "</style>\n",
       "<table border=\"1\" class=\"dataframe\">\n",
       "  <thead>\n",
       "    <tr style=\"text-align: right;\">\n",
       "      <th></th>\n",
       "      <th>age</th>\n",
       "      <th>sex</th>\n",
       "      <th>cp</th>\n",
       "      <th>trestbps</th>\n",
       "      <th>chol</th>\n",
       "      <th>fbs</th>\n",
       "      <th>restecg</th>\n",
       "      <th>thalach</th>\n",
       "      <th>exang</th>\n",
       "      <th>oldpeak</th>\n",
       "      <th>slope</th>\n",
       "      <th>ca</th>\n",
       "      <th>thal</th>\n",
       "      <th>target</th>\n",
       "    </tr>\n",
       "  </thead>\n",
       "  <tbody>\n",
       "    <tr>\n",
       "      <th>0</th>\n",
       "      <td>63</td>\n",
       "      <td>1</td>\n",
       "      <td>1</td>\n",
       "      <td>145</td>\n",
       "      <td>233</td>\n",
       "      <td>1</td>\n",
       "      <td>2</td>\n",
       "      <td>150</td>\n",
       "      <td>0</td>\n",
       "      <td>2.3</td>\n",
       "      <td>3</td>\n",
       "      <td>0</td>\n",
       "      <td>fixed</td>\n",
       "      <td>0</td>\n",
       "    </tr>\n",
       "    <tr>\n",
       "      <th>1</th>\n",
       "      <td>67</td>\n",
       "      <td>1</td>\n",
       "      <td>4</td>\n",
       "      <td>160</td>\n",
       "      <td>286</td>\n",
       "      <td>0</td>\n",
       "      <td>2</td>\n",
       "      <td>108</td>\n",
       "      <td>1</td>\n",
       "      <td>1.5</td>\n",
       "      <td>2</td>\n",
       "      <td>3</td>\n",
       "      <td>normal</td>\n",
       "      <td>1</td>\n",
       "    </tr>\n",
       "    <tr>\n",
       "      <th>2</th>\n",
       "      <td>67</td>\n",
       "      <td>1</td>\n",
       "      <td>4</td>\n",
       "      <td>120</td>\n",
       "      <td>229</td>\n",
       "      <td>0</td>\n",
       "      <td>2</td>\n",
       "      <td>129</td>\n",
       "      <td>1</td>\n",
       "      <td>2.6</td>\n",
       "      <td>2</td>\n",
       "      <td>2</td>\n",
       "      <td>reversible</td>\n",
       "      <td>0</td>\n",
       "    </tr>\n",
       "    <tr>\n",
       "      <th>3</th>\n",
       "      <td>37</td>\n",
       "      <td>1</td>\n",
       "      <td>3</td>\n",
       "      <td>130</td>\n",
       "      <td>250</td>\n",
       "      <td>0</td>\n",
       "      <td>0</td>\n",
       "      <td>187</td>\n",
       "      <td>0</td>\n",
       "      <td>3.5</td>\n",
       "      <td>3</td>\n",
       "      <td>0</td>\n",
       "      <td>normal</td>\n",
       "      <td>0</td>\n",
       "    </tr>\n",
       "    <tr>\n",
       "      <th>4</th>\n",
       "      <td>41</td>\n",
       "      <td>0</td>\n",
       "      <td>2</td>\n",
       "      <td>130</td>\n",
       "      <td>204</td>\n",
       "      <td>0</td>\n",
       "      <td>2</td>\n",
       "      <td>172</td>\n",
       "      <td>0</td>\n",
       "      <td>1.4</td>\n",
       "      <td>1</td>\n",
       "      <td>0</td>\n",
       "      <td>normal</td>\n",
       "      <td>0</td>\n",
       "    </tr>\n",
       "  </tbody>\n",
       "</table>\n",
       "</div>"
      ],
      "text/plain": [
       "   age  sex  cp  trestbps  chol  fbs  restecg  thalach  exang  oldpeak  slope  ca        thal  target\n",
       "0   63    1   1       145   233    1        2      150      0      2.3      3   0       fixed       0\n",
       "1   67    1   4       160   286    0        2      108      1      1.5      2   3      normal       1\n",
       "2   67    1   4       120   229    0        2      129      1      2.6      2   2  reversible       0\n",
       "3   37    1   3       130   250    0        0      187      0      3.5      3   0      normal       0\n",
       "4   41    0   2       130   204    0        2      172      0      1.4      1   0      normal       0"
      ]
     },
     "execution_count": 5,
     "metadata": {},
     "output_type": "execute_result"
    }
   ],
   "source": [
    "dataframe.head()"
   ]
  },
  {
   "cell_type": "code",
   "execution_count": 6,
   "id": "d644dfd2-9532-4d05-9d35-8500a3085f1b",
   "metadata": {},
   "outputs": [],
   "source": [
    "# Spliting the data into train and validation set"
   ]
  },
  {
   "cell_type": "code",
   "execution_count": 7,
   "id": "2287fc81-df34-455d-9f25-12f913b83c0a",
   "metadata": {},
   "outputs": [],
   "source": [
    "val_dataframe = dataframe.sample(frac=0.2, random_state=1337)\n",
    "train_dataframe = dataframe.drop(val_dataframe.index)"
   ]
  },
  {
   "cell_type": "code",
   "execution_count": 8,
   "id": "8caa4812-1964-494a-913e-b507a3321504",
   "metadata": {},
   "outputs": [
    {
     "name": "stdout",
     "output_type": "stream",
     "text": [
      "Using 242 samples for training and 61 for validation\n"
     ]
    }
   ],
   "source": [
    "print(\n",
    "    \"Using %d samples for training and %d for validation\"\n",
    "    % (len(train_dataframe), len(val_dataframe))\n",
    ")"
   ]
  },
  {
   "cell_type": "code",
   "execution_count": 9,
   "id": "8098a67a-b686-4b1d-9d7a-ba5dcfa6d5f6",
   "metadata": {},
   "outputs": [],
   "source": [
    "# Let's generate tf.data.Dataset objects for each dataframe"
   ]
  },
  {
   "cell_type": "code",
   "execution_count": 13,
   "id": "b6caeced-ee26-4a82-8ffc-03ea9e923834",
   "metadata": {},
   "outputs": [],
   "source": [
    "def dataframe_to_dataset(dataframe):\n",
    "    dataframe = dataframe.copy()\n",
    "    labels = dataframe.pop(\"target\")\n",
    "    ds = tf.data.Dataset.from_tensor_slices((dict(dataframe), labels))\n",
    "    ds = ds.shuffle(buffer_size=len(dataframe))\n",
    "    return ds"
   ]
  },
  {
   "cell_type": "code",
   "execution_count": 14,
   "id": "7cc67b6e-059b-4646-a88f-76aae89f54e7",
   "metadata": {},
   "outputs": [],
   "source": [
    "train_ds = dataframe_to_dataset(train_dataframe)\n",
    "val_ds = dataframe_to_dataset(val_dataframe)"
   ]
  },
  {
   "cell_type": "code",
   "execution_count": 15,
   "id": "d8163dfa-46d8-4fd5-a6bd-da885dde036d",
   "metadata": {},
   "outputs": [],
   "source": [
    "# Note: Each dataset yields a tuple (input, target) where input is a dictionary of features\n",
    "# and target is the value 0 or 1"
   ]
  },
  {
   "cell_type": "code",
   "execution_count": 16,
   "id": "ba2ceaeb-af7a-486c-912b-0c7f140e688c",
   "metadata": {},
   "outputs": [
    {
     "name": "stdout",
     "output_type": "stream",
     "text": [
      "Input:  {'age': <tf.Tensor: shape=(), dtype=int64, numpy=55>, 'sex': <tf.Tensor: shape=(), dtype=int64, numpy=1>, 'cp': <tf.Tensor: shape=(), dtype=int64, numpy=2>, 'trestbps': <tf.Tensor: shape=(), dtype=int64, numpy=130>, 'chol': <tf.Tensor: shape=(), dtype=int64, numpy=262>, 'fbs': <tf.Tensor: shape=(), dtype=int64, numpy=0>, 'restecg': <tf.Tensor: shape=(), dtype=int64, numpy=0>, 'thalach': <tf.Tensor: shape=(), dtype=int64, numpy=155>, 'exang': <tf.Tensor: shape=(), dtype=int64, numpy=0>, 'oldpeak': <tf.Tensor: shape=(), dtype=float64, numpy=0.0>, 'slope': <tf.Tensor: shape=(), dtype=int64, numpy=1>, 'ca': <tf.Tensor: shape=(), dtype=int64, numpy=0>, 'thal': <tf.Tensor: shape=(), dtype=string, numpy=b'normal'>}\n",
      "Target:  tf.Tensor(0, shape=(), dtype=int64)\n"
     ]
    }
   ],
   "source": [
    "for x, y in train_ds.take(1):\n",
    "    print(\"Input: \", x)\n",
    "    print(\"Target: \", y)"
   ]
  },
  {
   "cell_type": "code",
   "execution_count": 17,
   "id": "e3609c06-deda-4139-a9a7-44863f5ea75c",
   "metadata": {},
   "outputs": [],
   "source": [
    "# Let's batch the dataset -"
   ]
  },
  {
   "cell_type": "code",
   "execution_count": 18,
   "id": "b2342503-cbd5-423b-aa22-1d43c942cd3e",
   "metadata": {},
   "outputs": [],
   "source": [
    "train_ds = train_ds.batch(32)\n",
    "val_ds = val_ds.batch(32)"
   ]
  },
  {
   "cell_type": "code",
   "execution_count": 19,
   "id": "84738de8-4fef-4f62-ba1e-5f7281aa5ba4",
   "metadata": {},
   "outputs": [
    {
     "data": {
      "text/plain": [
       "<BatchDataset element_spec=({'age': TensorSpec(shape=(None,), dtype=tf.int64, name=None), 'sex': TensorSpec(shape=(None,), dtype=tf.int64, name=None), 'cp': TensorSpec(shape=(None,), dtype=tf.int64, name=None), 'trestbps': TensorSpec(shape=(None,), dtype=tf.int64, name=None), 'chol': TensorSpec(shape=(None,), dtype=tf.int64, name=None), 'fbs': TensorSpec(shape=(None,), dtype=tf.int64, name=None), 'restecg': TensorSpec(shape=(None,), dtype=tf.int64, name=None), 'thalach': TensorSpec(shape=(None,), dtype=tf.int64, name=None), 'exang': TensorSpec(shape=(None,), dtype=tf.int64, name=None), 'oldpeak': TensorSpec(shape=(None,), dtype=tf.float64, name=None), 'slope': TensorSpec(shape=(None,), dtype=tf.int64, name=None), 'ca': TensorSpec(shape=(None,), dtype=tf.int64, name=None), 'thal': TensorSpec(shape=(None,), dtype=tf.string, name=None)}, TensorSpec(shape=(None,), dtype=tf.int64, name=None))>"
      ]
     },
     "execution_count": 19,
     "metadata": {},
     "output_type": "execute_result"
    }
   ],
   "source": [
    "train_ds"
   ]
  },
  {
   "cell_type": "markdown",
   "id": "1d3461e6-16f3-4c4d-8c54-8b89146e4670",
   "metadata": {},
   "source": [
    "##### Feature pre-processing with Keras layers\n",
    "The following features are categoriacal features encoded as integers -\n",
    "* sex\n",
    "* cp\n",
    "* fbs\n",
    "* restecg\n",
    "* exang\n",
    "* ca\n",
    "\n",
    "We will encode these features uisng one-hot encoding. We have two options here -\n",
    "1. Use CategoryEncoding(), which requires knowing the range of input values and will error on input outside the range\n",
    "2. Use IntegerLookup() which will build a lookup table for inputs and reserve an output index for unknown input values\n",
    "\n",
    "Here we want a solution which will handle out of range inputs at inference, so we will use IntegerLookup()\n",
    "\n",
    "We also have a categorical feature encoded as a string: \"thal\". We will create an index of all possible features and encode output using the StringLookup() layer.\n",
    "\n",
    "Finally, the following feature are continuous numerical features -\n",
    "* age\n",
    "* trestbps\n",
    "* chol\n",
    "* thalach\n",
    "* oldpeak\n",
    "* slope\n",
    "\n",
    "For each of these features, we will use a Normalization() layer to make sure the mean of each feature is 0 and its standard deviation is 1."
   ]
  },
  {
   "cell_type": "code",
   "execution_count": 21,
   "id": "cff388da-f780-415f-9e57-07503a715648",
   "metadata": {},
   "outputs": [],
   "source": [
    "# To apply featurewise normalization to numerical features\n",
    "\n",
    "def encode_numerical_features(feature, name, dataset):\n",
    "    # create a Normalization layer for our feature\n",
    "    normalizer = Normalization()\n",
    "    \n",
    "    # Prepare a Dataset that only yields our feature\n",
    "    feature_ds = dataset.map(lambda x, y: x[name])\n",
    "    feature_ds = feature_ds.map(lambda x: tf.expand_dims(x, -1))\n",
    "    \n",
    "    # Learn the statistics of the data -\n",
    "    normalizer.adapt(feature_ds)\n",
    "    \n",
    "    # Normalize the input feature-\n",
    "    encoded_feature = normalizer(feature)\n",
    "    return encoded_feature"
   ]
  },
  {
   "cell_type": "code",
   "execution_count": 22,
   "id": "e0d51027-6e04-4ba1-a886-11e6a99ccbb6",
   "metadata": {},
   "outputs": [],
   "source": [
    "def encode_categorical_feature(feature, name, dataset, is_string):\n",
    "    lookup_class = StringLookup if is_string else IntegerLookup\n",
    "    \n",
    "    # Create a lookup layer which will turn strings into integer indices\n",
    "    lookup = lookup_class(output_mode = \"binary\")\n",
    "    \n",
    "    # Prepare a Dataset that only yields our feature -\n",
    "    feature_ds = dataset.map(lambda x, y: x[name])\n",
    "    feature_ds = feature_ds.map(lambda x: tf.expand_dims(x, -1))\n",
    "    \n",
    "    # Learn the set of possible string values and assign them a fixed integer index -\n",
    "    lookup.adapt(feature_ds)\n",
    "    \n",
    "    # Turn the string input into integer indices\n",
    "    encoded_feature = lookup(feature)\n",
    "    \n",
    "    return encoded_feature"
   ]
  },
  {
   "cell_type": "markdown",
   "id": "51f335ba-4be4-4ad6-8a07-3a25fad72312",
   "metadata": {},
   "source": [
    "##### Build a Model\n",
    "Let's build our end-to-end model"
   ]
  },
  {
   "cell_type": "code",
   "execution_count": 24,
   "id": "a9453077-6033-4789-a9d5-9e91a49f59de",
   "metadata": {},
   "outputs": [],
   "source": [
    "# Categorical features encoded as integers"
   ]
  },
  {
   "cell_type": "code",
   "execution_count": null,
   "id": "066eca66-80da-428c-b0dd-3bf0a7565279",
   "metadata": {},
   "outputs": [],
   "source": [
    "sex = keras.Input(shape = (1, ), name = \"sex\", dtype = \"int64\")\n",
    "cp = keras.Input(shape = (1, ), name = \"cp\", dtype = \"int64\")\n",
    "fbs = keras.Input(shape = (1, ), name = \"fbs\", dtype = \"int64\")\n",
    "restecg = keras.Input(shape = (1, ), name = \"restecg\", dtype = \"int64\")\n",
    "exang = keras.Input(shape = (1, ), name = \"exang\", dtype = \"int64\")\n",
    "ca = keras.Input(shape = (1, ), name = \"ca\", dtype = \"int64\")"
   ]
  }
 ],
 "metadata": {
  "kernelspec": {
   "display_name": "Python 3 (ipykernel)",
   "language": "python",
   "name": "python3"
  },
  "language_info": {
   "codemirror_mode": {
    "name": "ipython",
    "version": 3
   },
   "file_extension": ".py",
   "mimetype": "text/x-python",
   "name": "python",
   "nbconvert_exporter": "python",
   "pygments_lexer": "ipython3",
   "version": "3.8.10"
  }
 },
 "nbformat": 4,
 "nbformat_minor": 5
}
