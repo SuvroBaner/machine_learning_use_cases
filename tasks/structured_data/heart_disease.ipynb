{
 "cells": [
  {
   "cell_type": "markdown",
   "id": "32354fa8-00dd-4a44-ab92-7c7f632701fa",
   "metadata": {},
   "source": [
    "#### Problem Statement\n",
    "The dataset is provided by Cleveland Clinic Foundation for Heart Disease.\n",
    "https://archive.ics.uci.edu/ml/datasets/heart+Disease\n",
    "\n",
    "It's a csv with 303 rows each containing a patient information. We use these features to predict if a patient has a heart disease or not (binary classification)"
   ]
  },
  {
   "cell_type": "markdown",
   "id": "62c5cac6-0f48-4aae-9303-0a6450aaeae2",
   "metadata": {},
   "source": [
    "##### Import Modules"
   ]
  },
  {
   "cell_type": "code",
   "execution_count": 1,
   "id": "5d6e5831-ac92-4845-8b74-ef5952be5b79",
   "metadata": {},
   "outputs": [],
   "source": [
    "import tensorflow as tf\n",
    "import numpy as np\n",
    "import pandas as pd\n",
    "from tensorflow import keras\n",
    "from tensorflow.keras import layers\n",
    "\n",
    "from tensorflow.keras.layers import IntegerLookup\n",
    "from tensorflow.keras.layers import Normalization\n",
    "from tensorflow.keras.layers import StringLookup\n",
    "\n",
    "import pydot"
   ]
  },
  {
   "cell_type": "code",
   "execution_count": 2,
   "id": "8a1d3328-c0ce-4073-9a6a-23a9930bff11",
   "metadata": {},
   "outputs": [
    {
     "name": "stdout",
     "output_type": "stream",
     "text": [
      "2.8.0\n"
     ]
    }
   ],
   "source": [
    "print(tf.__version__)"
   ]
  },
  {
   "cell_type": "markdown",
   "id": "99da7906-8d39-4510-9fd5-5ea09c949727",
   "metadata": {},
   "source": [
    "##### Preparing the data"
   ]
  },
  {
   "cell_type": "code",
   "execution_count": 3,
   "id": "0040991e-3576-42f0-ab3e-33a54d3c6d79",
   "metadata": {},
   "outputs": [],
   "source": [
    "file_url = \"http://storage.googleapis.com/download.tensorflow.org/data/heart.csv\"\n",
    "dataframe = pd.read_csv(file_url)"
   ]
  },
  {
   "cell_type": "code",
   "execution_count": 4,
   "id": "77cf4559-a103-4ad5-a7b0-4ab0b34b85dc",
   "metadata": {},
   "outputs": [
    {
     "data": {
      "text/plain": [
       "(303, 14)"
      ]
     },
     "execution_count": 4,
     "metadata": {},
     "output_type": "execute_result"
    }
   ],
   "source": [
    "dataframe.shape"
   ]
  },
  {
   "cell_type": "code",
   "execution_count": 5,
   "id": "02cfbec8-f1e3-4bdc-8127-6ec4cd5dbdb1",
   "metadata": {},
   "outputs": [
    {
     "data": {
      "text/html": [
       "<div>\n",
       "<style scoped>\n",
       "    .dataframe tbody tr th:only-of-type {\n",
       "        vertical-align: middle;\n",
       "    }\n",
       "\n",
       "    .dataframe tbody tr th {\n",
       "        vertical-align: top;\n",
       "    }\n",
       "\n",
       "    .dataframe thead th {\n",
       "        text-align: right;\n",
       "    }\n",
       "</style>\n",
       "<table border=\"1\" class=\"dataframe\">\n",
       "  <thead>\n",
       "    <tr style=\"text-align: right;\">\n",
       "      <th></th>\n",
       "      <th>age</th>\n",
       "      <th>sex</th>\n",
       "      <th>cp</th>\n",
       "      <th>trestbps</th>\n",
       "      <th>chol</th>\n",
       "      <th>fbs</th>\n",
       "      <th>restecg</th>\n",
       "      <th>thalach</th>\n",
       "      <th>exang</th>\n",
       "      <th>oldpeak</th>\n",
       "      <th>slope</th>\n",
       "      <th>ca</th>\n",
       "      <th>thal</th>\n",
       "      <th>target</th>\n",
       "    </tr>\n",
       "  </thead>\n",
       "  <tbody>\n",
       "    <tr>\n",
       "      <th>0</th>\n",
       "      <td>63</td>\n",
       "      <td>1</td>\n",
       "      <td>1</td>\n",
       "      <td>145</td>\n",
       "      <td>233</td>\n",
       "      <td>1</td>\n",
       "      <td>2</td>\n",
       "      <td>150</td>\n",
       "      <td>0</td>\n",
       "      <td>2.3</td>\n",
       "      <td>3</td>\n",
       "      <td>0</td>\n",
       "      <td>fixed</td>\n",
       "      <td>0</td>\n",
       "    </tr>\n",
       "    <tr>\n",
       "      <th>1</th>\n",
       "      <td>67</td>\n",
       "      <td>1</td>\n",
       "      <td>4</td>\n",
       "      <td>160</td>\n",
       "      <td>286</td>\n",
       "      <td>0</td>\n",
       "      <td>2</td>\n",
       "      <td>108</td>\n",
       "      <td>1</td>\n",
       "      <td>1.5</td>\n",
       "      <td>2</td>\n",
       "      <td>3</td>\n",
       "      <td>normal</td>\n",
       "      <td>1</td>\n",
       "    </tr>\n",
       "    <tr>\n",
       "      <th>2</th>\n",
       "      <td>67</td>\n",
       "      <td>1</td>\n",
       "      <td>4</td>\n",
       "      <td>120</td>\n",
       "      <td>229</td>\n",
       "      <td>0</td>\n",
       "      <td>2</td>\n",
       "      <td>129</td>\n",
       "      <td>1</td>\n",
       "      <td>2.6</td>\n",
       "      <td>2</td>\n",
       "      <td>2</td>\n",
       "      <td>reversible</td>\n",
       "      <td>0</td>\n",
       "    </tr>\n",
       "    <tr>\n",
       "      <th>3</th>\n",
       "      <td>37</td>\n",
       "      <td>1</td>\n",
       "      <td>3</td>\n",
       "      <td>130</td>\n",
       "      <td>250</td>\n",
       "      <td>0</td>\n",
       "      <td>0</td>\n",
       "      <td>187</td>\n",
       "      <td>0</td>\n",
       "      <td>3.5</td>\n",
       "      <td>3</td>\n",
       "      <td>0</td>\n",
       "      <td>normal</td>\n",
       "      <td>0</td>\n",
       "    </tr>\n",
       "    <tr>\n",
       "      <th>4</th>\n",
       "      <td>41</td>\n",
       "      <td>0</td>\n",
       "      <td>2</td>\n",
       "      <td>130</td>\n",
       "      <td>204</td>\n",
       "      <td>0</td>\n",
       "      <td>2</td>\n",
       "      <td>172</td>\n",
       "      <td>0</td>\n",
       "      <td>1.4</td>\n",
       "      <td>1</td>\n",
       "      <td>0</td>\n",
       "      <td>normal</td>\n",
       "      <td>0</td>\n",
       "    </tr>\n",
       "  </tbody>\n",
       "</table>\n",
       "</div>"
      ],
      "text/plain": [
       "   age  sex  cp  trestbps  chol  fbs  restecg  thalach  exang  oldpeak  slope  \\\n",
       "0   63    1   1       145   233    1        2      150      0      2.3      3   \n",
       "1   67    1   4       160   286    0        2      108      1      1.5      2   \n",
       "2   67    1   4       120   229    0        2      129      1      2.6      2   \n",
       "3   37    1   3       130   250    0        0      187      0      3.5      3   \n",
       "4   41    0   2       130   204    0        2      172      0      1.4      1   \n",
       "\n",
       "   ca        thal  target  \n",
       "0   0       fixed       0  \n",
       "1   3      normal       1  \n",
       "2   2  reversible       0  \n",
       "3   0      normal       0  \n",
       "4   0      normal       0  "
      ]
     },
     "execution_count": 5,
     "metadata": {},
     "output_type": "execute_result"
    }
   ],
   "source": [
    "dataframe.head()"
   ]
  },
  {
   "cell_type": "code",
   "execution_count": 6,
   "id": "d644dfd2-9532-4d05-9d35-8500a3085f1b",
   "metadata": {},
   "outputs": [],
   "source": [
    "# Spliting the data into train and validation set"
   ]
  },
  {
   "cell_type": "code",
   "execution_count": 7,
   "id": "2287fc81-df34-455d-9f25-12f913b83c0a",
   "metadata": {},
   "outputs": [],
   "source": [
    "val_dataframe = dataframe.sample(frac=0.2, random_state=1337)\n",
    "train_dataframe = dataframe.drop(val_dataframe.index)"
   ]
  },
  {
   "cell_type": "code",
   "execution_count": 8,
   "id": "8caa4812-1964-494a-913e-b507a3321504",
   "metadata": {},
   "outputs": [
    {
     "name": "stdout",
     "output_type": "stream",
     "text": [
      "Using 242 samples for training and 61 for validation\n"
     ]
    }
   ],
   "source": [
    "print(\n",
    "    \"Using %d samples for training and %d for validation\"\n",
    "    % (len(train_dataframe), len(val_dataframe))\n",
    ")"
   ]
  },
  {
   "cell_type": "code",
   "execution_count": 9,
   "id": "8098a67a-b686-4b1d-9d7a-ba5dcfa6d5f6",
   "metadata": {},
   "outputs": [],
   "source": [
    "# Let's generate tf.data.Dataset objects for each dataframe"
   ]
  },
  {
   "cell_type": "code",
   "execution_count": 10,
   "id": "b6caeced-ee26-4a82-8ffc-03ea9e923834",
   "metadata": {},
   "outputs": [],
   "source": [
    "def dataframe_to_dataset(dataframe):\n",
    "    dataframe = dataframe.copy()\n",
    "    labels = dataframe.pop(\"target\")\n",
    "    ds = tf.data.Dataset.from_tensor_slices((dict(dataframe), labels))\n",
    "    ds = ds.shuffle(buffer_size=len(dataframe))\n",
    "    return ds"
   ]
  },
  {
   "cell_type": "code",
   "execution_count": 11,
   "id": "7cc67b6e-059b-4646-a88f-76aae89f54e7",
   "metadata": {},
   "outputs": [],
   "source": [
    "train_ds = dataframe_to_dataset(train_dataframe)\n",
    "val_ds = dataframe_to_dataset(val_dataframe)"
   ]
  },
  {
   "cell_type": "code",
   "execution_count": 12,
   "id": "d8163dfa-46d8-4fd5-a6bd-da885dde036d",
   "metadata": {},
   "outputs": [],
   "source": [
    "# Note: Each dataset yields a tuple (input, target) where input is a dictionary of features\n",
    "# and target is the value 0 or 1"
   ]
  },
  {
   "cell_type": "code",
   "execution_count": 13,
   "id": "ba2ceaeb-af7a-486c-912b-0c7f140e688c",
   "metadata": {},
   "outputs": [
    {
     "name": "stdout",
     "output_type": "stream",
     "text": [
      "Input:  {'age': <tf.Tensor: shape=(), dtype=int64, numpy=53>, 'sex': <tf.Tensor: shape=(), dtype=int64, numpy=1>, 'cp': <tf.Tensor: shape=(), dtype=int64, numpy=4>, 'trestbps': <tf.Tensor: shape=(), dtype=int64, numpy=142>, 'chol': <tf.Tensor: shape=(), dtype=int64, numpy=226>, 'fbs': <tf.Tensor: shape=(), dtype=int64, numpy=0>, 'restecg': <tf.Tensor: shape=(), dtype=int64, numpy=2>, 'thalach': <tf.Tensor: shape=(), dtype=int64, numpy=111>, 'exang': <tf.Tensor: shape=(), dtype=int64, numpy=1>, 'oldpeak': <tf.Tensor: shape=(), dtype=float64, numpy=0.0>, 'slope': <tf.Tensor: shape=(), dtype=int64, numpy=1>, 'ca': <tf.Tensor: shape=(), dtype=int64, numpy=0>, 'thal': <tf.Tensor: shape=(), dtype=string, numpy=b'reversible'>}\n",
      "Target:  tf.Tensor(0, shape=(), dtype=int64)\n"
     ]
    }
   ],
   "source": [
    "for x, y in train_ds.take(1):\n",
    "    print(\"Input: \", x)\n",
    "    print(\"Target: \", y)"
   ]
  },
  {
   "cell_type": "code",
   "execution_count": 14,
   "id": "e3609c06-deda-4139-a9a7-44863f5ea75c",
   "metadata": {},
   "outputs": [],
   "source": [
    "# Let's batch the dataset -"
   ]
  },
  {
   "cell_type": "code",
   "execution_count": 15,
   "id": "b2342503-cbd5-423b-aa22-1d43c942cd3e",
   "metadata": {},
   "outputs": [],
   "source": [
    "train_ds = train_ds.batch(32)\n",
    "val_ds = val_ds.batch(32)"
   ]
  },
  {
   "cell_type": "code",
   "execution_count": 16,
   "id": "84738de8-4fef-4f62-ba1e-5f7281aa5ba4",
   "metadata": {},
   "outputs": [
    {
     "data": {
      "text/plain": [
       "<BatchDataset element_spec=({'age': TensorSpec(shape=(None,), dtype=tf.int64, name=None), 'sex': TensorSpec(shape=(None,), dtype=tf.int64, name=None), 'cp': TensorSpec(shape=(None,), dtype=tf.int64, name=None), 'trestbps': TensorSpec(shape=(None,), dtype=tf.int64, name=None), 'chol': TensorSpec(shape=(None,), dtype=tf.int64, name=None), 'fbs': TensorSpec(shape=(None,), dtype=tf.int64, name=None), 'restecg': TensorSpec(shape=(None,), dtype=tf.int64, name=None), 'thalach': TensorSpec(shape=(None,), dtype=tf.int64, name=None), 'exang': TensorSpec(shape=(None,), dtype=tf.int64, name=None), 'oldpeak': TensorSpec(shape=(None,), dtype=tf.float64, name=None), 'slope': TensorSpec(shape=(None,), dtype=tf.int64, name=None), 'ca': TensorSpec(shape=(None,), dtype=tf.int64, name=None), 'thal': TensorSpec(shape=(None,), dtype=tf.string, name=None)}, TensorSpec(shape=(None,), dtype=tf.int64, name=None))>"
      ]
     },
     "execution_count": 16,
     "metadata": {},
     "output_type": "execute_result"
    }
   ],
   "source": [
    "train_ds"
   ]
  },
  {
   "cell_type": "markdown",
   "id": "1d3461e6-16f3-4c4d-8c54-8b89146e4670",
   "metadata": {},
   "source": [
    "##### Feature pre-processing with Keras layers\n",
    "The following features are categoriacal features encoded as integers -\n",
    "* sex\n",
    "* cp\n",
    "* fbs\n",
    "* restecg\n",
    "* exang\n",
    "* ca\n",
    "\n",
    "We will encode these features uisng one-hot encoding. We have two options here -\n",
    "1. Use CategoryEncoding(), which requires knowing the range of input values and will error on input outside the range\n",
    "2. Use IntegerLookup() which will build a lookup table for inputs and reserve an output index for unknown input values\n",
    "\n",
    "Here we want a solution which will handle out of range inputs at inference, so we will use IntegerLookup()\n",
    "\n",
    "We also have a categorical feature encoded as a string: \"thal\". We will create an index of all possible features and encode output using the StringLookup() layer.\n",
    "\n",
    "Finally, the following feature are continuous numerical features -\n",
    "* age\n",
    "* trestbps\n",
    "* chol\n",
    "* thalach\n",
    "* oldpeak\n",
    "* slope\n",
    "\n",
    "For each of these features, we will use a Normalization() layer to make sure the mean of each feature is 0 and its standard deviation is 1."
   ]
  },
  {
   "cell_type": "code",
   "execution_count": 17,
   "id": "cff388da-f780-415f-9e57-07503a715648",
   "metadata": {},
   "outputs": [],
   "source": [
    "# To apply featurewise normalization to numerical features\n",
    "\n",
    "def encode_numerical_feature(feature, name, dataset):\n",
    "    # create a Normalization layer for our feature\n",
    "    normalizer = Normalization()\n",
    "    \n",
    "    # Prepare a Dataset that only yields our feature\n",
    "    feature_ds = dataset.map(lambda x, y: x[name])\n",
    "    feature_ds = feature_ds.map(lambda x: tf.expand_dims(x, -1))\n",
    "    \n",
    "    # Learn the statistics of the data -\n",
    "    normalizer.adapt(feature_ds)\n",
    "    \n",
    "    # Normalize the input feature-\n",
    "    encoded_feature = normalizer(feature)\n",
    "    return encoded_feature"
   ]
  },
  {
   "cell_type": "code",
   "execution_count": 18,
   "id": "e0d51027-6e04-4ba1-a886-11e6a99ccbb6",
   "metadata": {},
   "outputs": [],
   "source": [
    "def encode_categorical_feature(feature, name, dataset, is_string):\n",
    "    lookup_class = StringLookup if is_string else IntegerLookup\n",
    "    \n",
    "    # Create a lookup layer which will turn strings into integer indices\n",
    "    lookup = lookup_class(output_mode = \"binary\")\n",
    "    \n",
    "    # Prepare a Dataset that only yields our feature -\n",
    "    feature_ds = dataset.map(lambda x, y: x[name])\n",
    "    feature_ds = feature_ds.map(lambda x: tf.expand_dims(x, -1))\n",
    "    \n",
    "    # Learn the set of possible string values and assign them a fixed integer index -\n",
    "    lookup.adapt(feature_ds)\n",
    "    \n",
    "    # Turn the string input into integer indices\n",
    "    encoded_feature = lookup(feature)\n",
    "    \n",
    "    return encoded_feature"
   ]
  },
  {
   "cell_type": "markdown",
   "id": "51f335ba-4be4-4ad6-8a07-3a25fad72312",
   "metadata": {},
   "source": [
    "##### Build a Model\n",
    "Let's build our end-to-end model"
   ]
  },
  {
   "cell_type": "code",
   "execution_count": 19,
   "id": "a9453077-6033-4789-a9d5-9e91a49f59de",
   "metadata": {},
   "outputs": [],
   "source": [
    "# Categorical features encoded as integers"
   ]
  },
  {
   "cell_type": "code",
   "execution_count": 20,
   "id": "066eca66-80da-428c-b0dd-3bf0a7565279",
   "metadata": {},
   "outputs": [],
   "source": [
    "sex = keras.Input(shape = (1, ), name = \"sex\", dtype = \"int64\")\n",
    "cp = keras.Input(shape = (1, ), name = \"cp\", dtype = \"int64\")\n",
    "fbs = keras.Input(shape = (1, ), name = \"fbs\", dtype = \"int64\")\n",
    "restecg = keras.Input(shape = (1, ), name = \"restecg\", dtype = \"int64\")\n",
    "exang = keras.Input(shape = (1, ), name = \"exang\", dtype = \"int64\")\n",
    "ca = keras.Input(shape = (1, ), name = \"ca\", dtype = \"int64\")"
   ]
  },
  {
   "cell_type": "code",
   "execution_count": 21,
   "id": "69209ff0-91e5-4a7d-b623-23137be67144",
   "metadata": {},
   "outputs": [],
   "source": [
    "# Categorical feature encoded as string"
   ]
  },
  {
   "cell_type": "code",
   "execution_count": 22,
   "id": "06f2bfc3-58b8-4ddf-86e9-2fe95ec689ed",
   "metadata": {},
   "outputs": [],
   "source": [
    "thal = keras.Input(shape = (1, ), name = \"thal\", dtype = \"string\")"
   ]
  },
  {
   "cell_type": "code",
   "execution_count": 23,
   "id": "2caa4af1-ea38-42f9-8f29-55dc906ef9a3",
   "metadata": {},
   "outputs": [],
   "source": [
    "# Numerical Features -"
   ]
  },
  {
   "cell_type": "code",
   "execution_count": 24,
   "id": "c839f4a1-2488-450d-ac4b-e8efdf9096ac",
   "metadata": {},
   "outputs": [],
   "source": [
    "age = keras.Input(shape = (1, ), name = \"age\")\n",
    "trestbps = keras.Input(shape = (1, ), name = \"trestbps\")\n",
    "chol = keras.Input(shape = (1, ), name = \"chol\")\n",
    "thalach = keras.Input(shape = (1, ), name = \"thalach\")\n",
    "oldpeak = keras.Input(shape = (1, ), name = \"oldpeak\")\n",
    "slope = keras.Input(shape = (1, ), name = \"slope\")"
   ]
  },
  {
   "cell_type": "code",
   "execution_count": 25,
   "id": "56b947c4-54e9-43fe-8d27-59d074bb759d",
   "metadata": {},
   "outputs": [],
   "source": [
    "all_inputs = [\n",
    "    sex,\n",
    "    cp,\n",
    "    fbs,\n",
    "    restecg,\n",
    "    exang,\n",
    "    ca,\n",
    "    thal,\n",
    "    age,\n",
    "    trestbps,\n",
    "    chol,\n",
    "    thalach,\n",
    "    oldpeak,\n",
    "    slope,\n",
    "]"
   ]
  },
  {
   "cell_type": "code",
   "execution_count": 26,
   "id": "c04c66d8-2a40-4417-bfd7-549521fbf64b",
   "metadata": {},
   "outputs": [],
   "source": [
    "# Integer Categorical Features -"
   ]
  },
  {
   "cell_type": "code",
   "execution_count": 27,
   "id": "c2bc0d25-7fb9-49b0-aec4-c57909d9cef6",
   "metadata": {},
   "outputs": [],
   "source": [
    "sex_encoded = encode_categorical_feature(sex, \"sex\", train_ds, False)\n",
    "cp_encoded = encode_categorical_feature(cp, \"cp\", train_ds, False)\n",
    "fbs_encoded = encode_categorical_feature(fbs, \"fbs\", train_ds, False)\n",
    "restecg_encoded = encode_categorical_feature(restecg, \"restecg\", train_ds, False)\n",
    "exang_encoded = encode_categorical_feature(exang, \"exang\", train_ds, False)\n",
    "ca_encoded = encode_categorical_feature(ca, \"ca\", train_ds, False)"
   ]
  },
  {
   "cell_type": "code",
   "execution_count": 28,
   "id": "25d22496-bcf1-4e2a-8a30-3bf517a3e4e9",
   "metadata": {},
   "outputs": [],
   "source": [
    "# String Categorical Features -"
   ]
  },
  {
   "cell_type": "code",
   "execution_count": 29,
   "id": "c6e182de-8b7b-4837-ae25-db38dd427a85",
   "metadata": {},
   "outputs": [],
   "source": [
    "thal_encoded = encode_categorical_feature(thal, \"thal\", train_ds, True)"
   ]
  },
  {
   "cell_type": "code",
   "execution_count": 30,
   "id": "ab6c758b-9526-4002-80e0-73c0d51dbb05",
   "metadata": {},
   "outputs": [],
   "source": [
    "# Numerical Features - "
   ]
  },
  {
   "cell_type": "code",
   "execution_count": 31,
   "id": "40b69495-64b1-4773-aeab-7aad4ab4e70f",
   "metadata": {},
   "outputs": [],
   "source": [
    "age_encoded = encode_numerical_feature(age, \"age\", train_ds)\n",
    "trestbps_encoded = encode_numerical_feature(trestbps, \"trestbps\", train_ds)\n",
    "chol_encoded = encode_numerical_feature(chol, \"chol\", train_ds)\n",
    "thalach_encoded = encode_numerical_feature(thalach, \"thalach\", train_ds)\n",
    "oldpeak_encoded = encode_numerical_feature(oldpeak, \"oldpeak\", train_ds)\n",
    "slope_encoded = encode_numerical_feature(slope, \"slope\", train_ds)"
   ]
  },
  {
   "cell_type": "code",
   "execution_count": 32,
   "id": "a7766e80-8555-40c9-89c5-17414d53aaa1",
   "metadata": {},
   "outputs": [],
   "source": [
    "all_features = layers.concatenate(\n",
    "    [\n",
    "        sex_encoded,\n",
    "        cp_encoded,\n",
    "        fbs_encoded,\n",
    "        restecg_encoded,\n",
    "        exang_encoded,\n",
    "        slope_encoded,\n",
    "        ca_encoded,\n",
    "        thal_encoded,\n",
    "        age_encoded,\n",
    "        trestbps_encoded,\n",
    "        chol_encoded,\n",
    "        thalach_encoded,\n",
    "        oldpeak_encoded,\n",
    "    ]\n",
    ")"
   ]
  },
  {
   "cell_type": "code",
   "execution_count": 33,
   "id": "c6ccbd52-d1e1-4941-b1c2-aace0cf6d081",
   "metadata": {},
   "outputs": [],
   "source": [
    "x = layers.Dense(32, activation = \"relu\")(all_features)\n",
    "x = layers.Dropout(0.5)(x)\n",
    "output = layers.Dense(1, activation = \"sigmoid\")(x)\n",
    "model = keras.Model(all_inputs, output)\n",
    "model.compile(\"adam\", \"binary_crossentropy\", metrics = [\"accuracy\"])"
   ]
  },
  {
   "cell_type": "code",
   "execution_count": 34,
   "id": "e1302588-721b-40bb-97ae-b7d356ec9587",
   "metadata": {},
   "outputs": [],
   "source": [
    "# Let's visualize our connectivity graph - "
   ]
  },
  {
   "cell_type": "code",
   "execution_count": 35,
   "id": "73915d68-c4ca-403a-ae23-f472c55e09b6",
   "metadata": {},
   "outputs": [
    {
     "name": "stdout",
     "output_type": "stream",
     "text": [
      "You must install pydot (`pip install pydot`) and install graphviz (see instructions at https://graphviz.gitlab.io/download/) for plot_model/model_to_dot to work.\n"
     ]
    }
   ],
   "source": [
    "keras.utils.plot_model(model, show_shapes=True, rankdir=\"LR\") # \"LR\" to make the graoh horizontal"
   ]
  },
  {
   "cell_type": "markdown",
   "id": "d5b1e082-4d64-42e2-8018-29ba71b4a268",
   "metadata": {},
   "source": [
    "#### Train the model"
   ]
  },
  {
   "cell_type": "code",
   "execution_count": 36,
   "id": "45163d76-d990-413d-9b30-cecb78273c07",
   "metadata": {},
   "outputs": [
    {
     "name": "stdout",
     "output_type": "stream",
     "text": [
      "Epoch 1/50\n",
      "8/8 [==============================] - 1s 28ms/step - loss: 0.7565 - accuracy: 0.4835 - val_loss: 0.7034 - val_accuracy: 0.4754\n",
      "Epoch 2/50\n",
      "8/8 [==============================] - 0s 3ms/step - loss: 0.7148 - accuracy: 0.5207 - val_loss: 0.6562 - val_accuracy: 0.6393\n",
      "Epoch 3/50\n",
      "8/8 [==============================] - 0s 3ms/step - loss: 0.6605 - accuracy: 0.6198 - val_loss: 0.6168 - val_accuracy: 0.8197\n",
      "Epoch 4/50\n",
      "8/8 [==============================] - 0s 3ms/step - loss: 0.6029 - accuracy: 0.6901 - val_loss: 0.5822 - val_accuracy: 0.8033\n",
      "Epoch 5/50\n",
      "8/8 [==============================] - 0s 3ms/step - loss: 0.6097 - accuracy: 0.6694 - val_loss: 0.5529 - val_accuracy: 0.8033\n",
      "Epoch 6/50\n",
      "8/8 [==============================] - 0s 3ms/step - loss: 0.5668 - accuracy: 0.7107 - val_loss: 0.5264 - val_accuracy: 0.8033\n",
      "Epoch 7/50\n",
      "8/8 [==============================] - 0s 3ms/step - loss: 0.5472 - accuracy: 0.7603 - val_loss: 0.5030 - val_accuracy: 0.7869\n",
      "Epoch 8/50\n",
      "8/8 [==============================] - 0s 3ms/step - loss: 0.5289 - accuracy: 0.7810 - val_loss: 0.4826 - val_accuracy: 0.7705\n",
      "Epoch 9/50\n",
      "8/8 [==============================] - 0s 4ms/step - loss: 0.5208 - accuracy: 0.7727 - val_loss: 0.4652 - val_accuracy: 0.7705\n",
      "Epoch 10/50\n",
      "8/8 [==============================] - 0s 3ms/step - loss: 0.5077 - accuracy: 0.7686 - val_loss: 0.4502 - val_accuracy: 0.7541\n",
      "Epoch 11/50\n",
      "8/8 [==============================] - 0s 4ms/step - loss: 0.4879 - accuracy: 0.7769 - val_loss: 0.4367 - val_accuracy: 0.7541\n",
      "Epoch 12/50\n",
      "8/8 [==============================] - 0s 3ms/step - loss: 0.4496 - accuracy: 0.7769 - val_loss: 0.4254 - val_accuracy: 0.7541\n",
      "Epoch 13/50\n",
      "8/8 [==============================] - 0s 3ms/step - loss: 0.4737 - accuracy: 0.7686 - val_loss: 0.4151 - val_accuracy: 0.7541\n",
      "Epoch 14/50\n",
      "8/8 [==============================] - 0s 3ms/step - loss: 0.4326 - accuracy: 0.8223 - val_loss: 0.4069 - val_accuracy: 0.7541\n",
      "Epoch 15/50\n",
      "8/8 [==============================] - 0s 4ms/step - loss: 0.4335 - accuracy: 0.8058 - val_loss: 0.4002 - val_accuracy: 0.7869\n",
      "Epoch 16/50\n",
      "8/8 [==============================] - 0s 3ms/step - loss: 0.4114 - accuracy: 0.8430 - val_loss: 0.3962 - val_accuracy: 0.8033\n",
      "Epoch 17/50\n",
      "8/8 [==============================] - 0s 4ms/step - loss: 0.4022 - accuracy: 0.8223 - val_loss: 0.3912 - val_accuracy: 0.8033\n",
      "Epoch 18/50\n",
      "8/8 [==============================] - 0s 4ms/step - loss: 0.3959 - accuracy: 0.8388 - val_loss: 0.3867 - val_accuracy: 0.8033\n",
      "Epoch 19/50\n",
      "8/8 [==============================] - 0s 3ms/step - loss: 0.3958 - accuracy: 0.8388 - val_loss: 0.3829 - val_accuracy: 0.8033\n",
      "Epoch 20/50\n",
      "8/8 [==============================] - 0s 4ms/step - loss: 0.3650 - accuracy: 0.8388 - val_loss: 0.3804 - val_accuracy: 0.8033\n",
      "Epoch 21/50\n",
      "8/8 [==============================] - 0s 3ms/step - loss: 0.3713 - accuracy: 0.8512 - val_loss: 0.3789 - val_accuracy: 0.8197\n",
      "Epoch 22/50\n",
      "8/8 [==============================] - 0s 4ms/step - loss: 0.3769 - accuracy: 0.8430 - val_loss: 0.3774 - val_accuracy: 0.8197\n",
      "Epoch 23/50\n",
      "8/8 [==============================] - 0s 3ms/step - loss: 0.3579 - accuracy: 0.8347 - val_loss: 0.3763 - val_accuracy: 0.8197\n",
      "Epoch 24/50\n",
      "8/8 [==============================] - 0s 3ms/step - loss: 0.3493 - accuracy: 0.8512 - val_loss: 0.3758 - val_accuracy: 0.8197\n",
      "Epoch 25/50\n",
      "8/8 [==============================] - 0s 4ms/step - loss: 0.3583 - accuracy: 0.8306 - val_loss: 0.3755 - val_accuracy: 0.8197\n",
      "Epoch 26/50\n",
      "8/8 [==============================] - 0s 3ms/step - loss: 0.3385 - accuracy: 0.8512 - val_loss: 0.3759 - val_accuracy: 0.8197\n",
      "Epoch 27/50\n",
      "8/8 [==============================] - 0s 4ms/step - loss: 0.3259 - accuracy: 0.8678 - val_loss: 0.3763 - val_accuracy: 0.8197\n",
      "Epoch 28/50\n",
      "8/8 [==============================] - 0s 4ms/step - loss: 0.3038 - accuracy: 0.8554 - val_loss: 0.3762 - val_accuracy: 0.8197\n",
      "Epoch 29/50\n",
      "8/8 [==============================] - 0s 4ms/step - loss: 0.3165 - accuracy: 0.8678 - val_loss: 0.3756 - val_accuracy: 0.8197\n",
      "Epoch 30/50\n",
      "8/8 [==============================] - 0s 3ms/step - loss: 0.3386 - accuracy: 0.8636 - val_loss: 0.3768 - val_accuracy: 0.8197\n",
      "Epoch 31/50\n",
      "8/8 [==============================] - 0s 4ms/step - loss: 0.2966 - accuracy: 0.8802 - val_loss: 0.3769 - val_accuracy: 0.8361\n",
      "Epoch 32/50\n",
      "8/8 [==============================] - 0s 4ms/step - loss: 0.3503 - accuracy: 0.8430 - val_loss: 0.3765 - val_accuracy: 0.8361\n",
      "Epoch 33/50\n",
      "8/8 [==============================] - 0s 4ms/step - loss: 0.3498 - accuracy: 0.8678 - val_loss: 0.3772 - val_accuracy: 0.8361\n",
      "Epoch 34/50\n",
      "8/8 [==============================] - 0s 3ms/step - loss: 0.3086 - accuracy: 0.8636 - val_loss: 0.3770 - val_accuracy: 0.8361\n",
      "Epoch 35/50\n",
      "8/8 [==============================] - 0s 4ms/step - loss: 0.2970 - accuracy: 0.8884 - val_loss: 0.3780 - val_accuracy: 0.8361\n",
      "Epoch 36/50\n",
      "8/8 [==============================] - 0s 4ms/step - loss: 0.3048 - accuracy: 0.8760 - val_loss: 0.3805 - val_accuracy: 0.8525\n",
      "Epoch 37/50\n",
      "8/8 [==============================] - 0s 4ms/step - loss: 0.2994 - accuracy: 0.8802 - val_loss: 0.3816 - val_accuracy: 0.8525\n",
      "Epoch 38/50\n",
      "8/8 [==============================] - 0s 4ms/step - loss: 0.3088 - accuracy: 0.8554 - val_loss: 0.3815 - val_accuracy: 0.8361\n",
      "Epoch 39/50\n",
      "8/8 [==============================] - 0s 4ms/step - loss: 0.3085 - accuracy: 0.8719 - val_loss: 0.3800 - val_accuracy: 0.8361\n",
      "Epoch 40/50\n",
      "8/8 [==============================] - 0s 4ms/step - loss: 0.3174 - accuracy: 0.8719 - val_loss: 0.3795 - val_accuracy: 0.8197\n",
      "Epoch 41/50\n",
      "8/8 [==============================] - 0s 4ms/step - loss: 0.2939 - accuracy: 0.8802 - val_loss: 0.3788 - val_accuracy: 0.8197\n",
      "Epoch 42/50\n",
      "8/8 [==============================] - 0s 4ms/step - loss: 0.2941 - accuracy: 0.8802 - val_loss: 0.3785 - val_accuracy: 0.8197\n",
      "Epoch 43/50\n",
      "8/8 [==============================] - 0s 4ms/step - loss: 0.2735 - accuracy: 0.8926 - val_loss: 0.3794 - val_accuracy: 0.8197\n",
      "Epoch 44/50\n",
      "8/8 [==============================] - 0s 4ms/step - loss: 0.2789 - accuracy: 0.8760 - val_loss: 0.3805 - val_accuracy: 0.8197\n",
      "Epoch 45/50\n",
      "8/8 [==============================] - 0s 4ms/step - loss: 0.2676 - accuracy: 0.8926 - val_loss: 0.3816 - val_accuracy: 0.8197\n",
      "Epoch 46/50\n",
      "8/8 [==============================] - 0s 4ms/step - loss: 0.2958 - accuracy: 0.8843 - val_loss: 0.3823 - val_accuracy: 0.8197\n",
      "Epoch 47/50\n",
      "8/8 [==============================] - 0s 4ms/step - loss: 0.2976 - accuracy: 0.8595 - val_loss: 0.3824 - val_accuracy: 0.8033\n",
      "Epoch 48/50\n",
      "8/8 [==============================] - 0s 4ms/step - loss: 0.2707 - accuracy: 0.8678 - val_loss: 0.3826 - val_accuracy: 0.8033\n",
      "Epoch 49/50\n",
      "8/8 [==============================] - 0s 3ms/step - loss: 0.2649 - accuracy: 0.8843 - val_loss: 0.3838 - val_accuracy: 0.8033\n",
      "Epoch 50/50\n",
      "8/8 [==============================] - 0s 4ms/step - loss: 0.2812 - accuracy: 0.8678 - val_loss: 0.3846 - val_accuracy: 0.8033\n"
     ]
    },
    {
     "data": {
      "text/plain": [
       "<keras.callbacks.History at 0x2687d919490>"
      ]
     },
     "execution_count": 36,
     "metadata": {},
     "output_type": "execute_result"
    }
   ],
   "source": [
    "model.fit(train_ds, epochs=50, validation_data=val_ds)"
   ]
  },
  {
   "cell_type": "markdown",
   "id": "121264f1-4096-4864-9134-b93275588722",
   "metadata": {},
   "source": [
    "#### Inference on New Data\n",
    "\n",
    "To get the prediction for a new sample, you can simply call model.predict(). There are just two things you need to do -\n",
    "\n",
    "1. Wrap scalars into a list so as to have a batch dimension (models only process batches of data, and not single samples)\n",
    "\n",
    "2. Call convert_to_tensor on each feature"
   ]
  },
  {
   "cell_type": "code",
   "execution_count": 37,
   "id": "c656e044-d7ae-41df-b365-27c7c4324ec7",
   "metadata": {},
   "outputs": [],
   "source": [
    "sample = {\n",
    "    \"age\": 60,\n",
    "    \"sex\": 1,\n",
    "    \"cp\": 1,\n",
    "    \"trestbps\": 145,\n",
    "    \"chol\": 233,\n",
    "    \"fbs\": 1,\n",
    "    \"restecg\": 2,\n",
    "    \"thalach\": 150,\n",
    "    \"exang\": 0,\n",
    "    \"oldpeak\": 2.3,\n",
    "    \"slope\": 3,\n",
    "    \"ca\": 0,\n",
    "    \"thal\": \"fixed\"\n",
    "}"
   ]
  },
  {
   "cell_type": "code",
   "execution_count": 38,
   "id": "f5519935-9b67-4897-ae24-dfe895fb6407",
   "metadata": {},
   "outputs": [],
   "source": [
    "input_dict = {name: tf.convert_to_tensor([value]) for name, value in sample.items()}"
   ]
  },
  {
   "cell_type": "code",
   "execution_count": 39,
   "id": "f5c3ff2e-440f-4706-9530-0f3e2f6874b7",
   "metadata": {},
   "outputs": [
    {
     "data": {
      "text/plain": [
       "{'age': <tf.Tensor: shape=(1,), dtype=int32, numpy=array([60])>,\n",
       " 'sex': <tf.Tensor: shape=(1,), dtype=int32, numpy=array([1])>,\n",
       " 'cp': <tf.Tensor: shape=(1,), dtype=int32, numpy=array([1])>,\n",
       " 'trestbps': <tf.Tensor: shape=(1,), dtype=int32, numpy=array([145])>,\n",
       " 'chol': <tf.Tensor: shape=(1,), dtype=int32, numpy=array([233])>,\n",
       " 'fbs': <tf.Tensor: shape=(1,), dtype=int32, numpy=array([1])>,\n",
       " 'restecg': <tf.Tensor: shape=(1,), dtype=int32, numpy=array([2])>,\n",
       " 'thalach': <tf.Tensor: shape=(1,), dtype=int32, numpy=array([150])>,\n",
       " 'exang': <tf.Tensor: shape=(1,), dtype=int32, numpy=array([0])>,\n",
       " 'oldpeak': <tf.Tensor: shape=(1,), dtype=float32, numpy=array([2.3], dtype=float32)>,\n",
       " 'slope': <tf.Tensor: shape=(1,), dtype=int32, numpy=array([3])>,\n",
       " 'ca': <tf.Tensor: shape=(1,), dtype=int32, numpy=array([0])>,\n",
       " 'thal': <tf.Tensor: shape=(1,), dtype=string, numpy=array([b'fixed'], dtype=object)>}"
      ]
     },
     "execution_count": 39,
     "metadata": {},
     "output_type": "execute_result"
    }
   ],
   "source": [
    "input_dict"
   ]
  },
  {
   "cell_type": "code",
   "execution_count": 40,
   "id": "b5021d92-69ce-4c24-a6b6-2d9401072063",
   "metadata": {},
   "outputs": [],
   "source": [
    "predictions = model.predict(input_dict)"
   ]
  },
  {
   "cell_type": "code",
   "execution_count": 41,
   "id": "396d0b0b-18c1-4623-a3e0-c71042d1fa33",
   "metadata": {},
   "outputs": [
    {
     "data": {
      "text/plain": [
       "array([[0.23753887]], dtype=float32)"
      ]
     },
     "execution_count": 41,
     "metadata": {},
     "output_type": "execute_result"
    }
   ],
   "source": [
    "predictions"
   ]
  },
  {
   "cell_type": "code",
   "execution_count": 43,
   "id": "f5891996-ebef-4946-a0cc-12ed7f74c1c1",
   "metadata": {},
   "outputs": [
    {
     "name": "stdout",
     "output_type": "stream",
     "text": [
      "This particular patient had a 23.8 percent probability of having a heart disease, as evaluated by our model.\n"
     ]
    }
   ],
   "source": [
    "print(\n",
    "    \"This particular patient had a %.1f percent probability \"\n",
    "    \"of having a heart disease, as evaluated by our model.\" % (100 * predictions[0][0],)\n",
    ")"
   ]
  },
  {
   "cell_type": "code",
   "execution_count": null,
   "id": "577c3bed-4c36-4ccf-b417-3d2b1fee6f95",
   "metadata": {},
   "outputs": [],
   "source": []
  }
 ],
 "metadata": {
  "kernelspec": {
   "display_name": "Python 3 (ipykernel)",
   "language": "python",
   "name": "python3"
  },
  "language_info": {
   "codemirror_mode": {
    "name": "ipython",
    "version": 3
   },
   "file_extension": ".py",
   "mimetype": "text/x-python",
   "name": "python",
   "nbconvert_exporter": "python",
   "pygments_lexer": "ipython3",
   "version": "3.8.10"
  }
 },
 "nbformat": 4,
 "nbformat_minor": 5
}
